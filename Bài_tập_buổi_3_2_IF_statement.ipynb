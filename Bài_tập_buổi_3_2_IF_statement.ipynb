{
  "nbformat": 4,
  "nbformat_minor": 0,
  "metadata": {
    "colab": {
      "provenance": []
    },
    "kernelspec": {
      "name": "python3",
      "display_name": "Python 3"
    },
    "language_info": {
      "name": "python"
    }
  },
  "cells": [
    {
      "cell_type": "code",
      "execution_count": 1,
      "metadata": {
        "colab": {
          "base_uri": "https://localhost:8080/"
        },
        "id": "qYSkqRMkQj4x",
        "outputId": "cd4189ed-a41d-4ee6-ca7f-3b201b1abc2a"
      },
      "outputs": [
        {
          "output_type": "stream",
          "name": "stdout",
          "text": [
            "Enter your age: 18\n",
            "You are eligible for voting.\n"
          ]
        }
      ],
      "source": [
        "age = int(input(\"Enter your age: \"))\n",
        "if age >= 18:\n",
        "    print(\"You are eligible for voting.\")\n",
        "else:\n",
        "    print(\"You are not eligible for voting.\")"
      ]
    },
    {
      "cell_type": "code",
      "source": [
        "num = int(input(\"Enter a number: \"))\n",
        "if num % 2 == 0:\n",
        "    print(\"The number is even.\")\n",
        "else:\n",
        "    print(\"The number is odd.\")"
      ],
      "metadata": {
        "colab": {
          "base_uri": "https://localhost:8080/"
        },
        "id": "lAkRKBs_QpN5",
        "outputId": "1ac6a045-6425-4993-e037-f46492e2c400"
      },
      "execution_count": 2,
      "outputs": [
        {
          "output_type": "stream",
          "name": "stdout",
          "text": [
            "Enter a number: 56\n",
            "The number is even.\n"
          ]
        }
      ]
    },
    {
      "cell_type": "code",
      "source": [
        "num = int(input(\"Enter a number: \"))\n",
        "if num % 7 == 0:\n",
        "    print(\"The number is divisible by 7.\")\n",
        "else:\n",
        "    print(\"The number is not divisible by 7.\")"
      ],
      "metadata": {
        "colab": {
          "base_uri": "https://localhost:8080/"
        },
        "id": "nCM-hMj4Qqs8",
        "outputId": "7af95ecb-4dde-4054-f3d4-316eb8c719b0"
      },
      "execution_count": 3,
      "outputs": [
        {
          "output_type": "stream",
          "name": "stdout",
          "text": [
            "Enter a number: 49\n",
            "The number is divisible by 7.\n"
          ]
        }
      ]
    },
    {
      "cell_type": "code",
      "source": [
        "num = int(input(\"Enter a number: \"))\n",
        "last_digit = num % 10\n",
        "if last_digit % 3 == 0:\n",
        "    print(\"The last digit is divisible by 3.\")\n",
        "else:\n",
        "    print(\"The last digit is not divisible by 3.\")"
      ],
      "metadata": {
        "colab": {
          "base_uri": "https://localhost:8080/"
        },
        "id": "ufBbukZPQsDM",
        "outputId": "a8dab3b7-07c0-49d3-a74f-5ff9113ed141"
      },
      "execution_count": 4,
      "outputs": [
        {
          "output_type": "stream",
          "name": "stdout",
          "text": [
            "Enter a number: 18\n",
            "The last digit is not divisible by 3.\n"
          ]
        }
      ]
    },
    {
      "cell_type": "code",
      "source": [
        "import random\n",
        "\n",
        "secret = random.randint(1, 9)\n",
        "guess = int(input(\"Guess a number between 1 and 9: \"))\n",
        "\n",
        "if guess == secret:\n",
        "    print(\"Congratulations! You guessed it right.\")\n",
        "else:\n",
        "    print(f\"Sorry! The correct number was {secret}.\")"
      ],
      "metadata": {
        "colab": {
          "base_uri": "https://localhost:8080/"
        },
        "id": "ZT3njGLgQtmd",
        "outputId": "9682a185-de17-4dc0-a6df-152cf1ab45c7"
      },
      "execution_count": 5,
      "outputs": [
        {
          "output_type": "stream",
          "name": "stdout",
          "text": [
            "Guess a number between 1 and 9: 5\n",
            "Sorry! The correct number was 1.\n"
          ]
        }
      ]
    },
    {
      "cell_type": "code",
      "source": [
        "day_number = int(input(\"Enter a number (1-7): \"))\n",
        "\n",
        "if day_number == 1:\n",
        "    print(\"Sunday\")\n",
        "elif day_number == 2:\n",
        "    print(\"Monday\")\n",
        "elif day_number == 3:\n",
        "    print(\"Tuesday\")\n",
        "elif day_number == 4:\n",
        "    print(\"Wednesday\")\n",
        "elif day_number == 5:\n",
        "    print(\"Thursday\")\n",
        "elif day_number == 6:\n",
        "    print(\"Friday\")\n",
        "elif day_number == 7:\n",
        "    print(\"Saturday\")\n",
        "else:\n",
        "    print(\"Invalid input. Please enter a number from 1 to 7.\")"
      ],
      "metadata": {
        "colab": {
          "base_uri": "https://localhost:8080/"
        },
        "id": "5QWnoX8yQvvP",
        "outputId": "0badbd2f-bf76-403c-f222-004126e75730"
      },
      "execution_count": 6,
      "outputs": [
        {
          "output_type": "stream",
          "name": "stdout",
          "text": [
            "Enter a number (1-7): 6\n",
            "Friday\n"
          ]
        }
      ]
    }
  ]
}